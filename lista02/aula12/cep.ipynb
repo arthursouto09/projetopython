{
 "cells": [
  {
   "cell_type": "code",
   "execution_count": 3,
   "metadata": {},
   "outputs": [
    {
     "name": "stdout",
     "output_type": "stream",
     "text": [
      "{'cep': '71735-506', 'logradouro': 'Quadra SMPW Quadra 5 Conjunto 6', 'complemento': '', 'unidade': '', 'bairro': 'Park Way', 'localidade': 'Brasília', 'uf': 'DF', 'estado': 'Distrito Federal', 'regiao': 'Centro-Oeste', 'ibge': '5300108', 'gia': '', 'ddd': '61', 'siafi': '9701'}\n"
     ]
    }
   ],
   "source": [
    "import requests\n",
    "\n",
    "cep = 71735506\n",
    "\n",
    "link = f'https://viacep.com.br/ws/{cep}/json/'\n",
    "\n",
    "resposta = requests.get(link)\n",
    "\n",
    "endereco = resposta.json()\n",
    "\n",
    "print(endereco)"
   ]
  }
 ],
 "metadata": {
  "interpreter": {
   "hash": "d1e9abc10c94c7f6123d9d95826e95a0b50ae338d09e6669c2548fabf3e8b054"
  },
  "kernelspec": {
   "display_name": "Python 3.12.5 64-bit",
   "language": "python",
   "name": "python3"
  },
  "language_info": {
   "codemirror_mode": {
    "name": "ipython",
    "version": 3
   },
   "file_extension": ".py",
   "mimetype": "text/x-python",
   "name": "python",
   "nbconvert_exporter": "python",
   "pygments_lexer": "ipython3",
   "version": "3.12.5"
  },
  "orig_nbformat": 4
 },
 "nbformat": 4,
 "nbformat_minor": 2
}
