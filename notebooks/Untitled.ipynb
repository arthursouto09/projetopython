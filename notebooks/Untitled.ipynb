{
 "cells": [
  {
   "cell_type": "code",
   "execution_count": 3,
   "id": "1bf1097c-1bb7-4d71-bedf-d1c16664721c",
   "metadata": {},
   "outputs": [
    {
     "data": {
      "text/plain": [
       "True"
      ]
     },
     "metadata": {},
     "output_type": "display_data"
    }
   ],
   "source": [
    "# ANY (Qualquer, qualquer coisa)\n",
    "\n",
    "\n",
    "resposta = any([False, True, False, False, False])\n",
    "display(resposta)"
   ]
  },
  {
   "cell_type": "code",
   "execution_count": 4,
   "id": "f14b6625-2bec-4aeb-bf26-e7d9a1b1a054",
   "metadata": {},
   "outputs": [
    {
     "data": {
      "text/plain": [
       "True"
      ]
     },
     "metadata": {},
     "output_type": "display_data"
    }
   ],
   "source": [
    "nomes = ['Arthur', '','','','','']\n",
    "\n",
    "resposta = any(nomes)\n",
    "display(resposta)"
   ]
  },
  {
   "cell_type": "code",
   "execution_count": 6,
   "id": "4510af93-2220-4213-9e8b-5f9497bd0007",
   "metadata": {},
   "outputs": [
    {
     "data": {
      "text/plain": [
       "True"
      ]
     },
     "metadata": {},
     "output_type": "display_data"
    }
   ],
   "source": [
    "numeros = [2, 32, 31, 54]\n",
    "\n",
    "resultado = any(num % 2 != 0 for num in numeros)\n",
    "\n",
    "display(resultado)"
   ]
  },
  {
   "cell_type": "code",
   "execution_count": 33,
   "id": "698285a2-b5e0-460d-bb43-cb05222b26c1",
   "metadata": {},
   "outputs": [
    {
     "name": "stdout",
     "output_type": "stream",
     "text": [
      "True\n"
     ]
    }
   ],
   "source": [
    "tabuleiro = ['a',1,2,3,'a',5,6,7,'a']\n",
    "\n",
    "\n",
    "venceu = False\n",
    "\n",
    "combinacoes_vitoria = [\n",
    "    (0, 1, 2), (3,4,5), (6,7,8), #linhas\n",
    "    (0,3,6), (1,4,7), (2,5,8), #colunas\n",
    "    (0,4,8), (2,4,6)  #diagramas\n",
    "]\n",
    "\n",
    "\n",
    "venceu = any(tabuleiro [a] == tabuleiro[b] == tabuleiro[c] for a, b, c in combinacoes_vitoria)\n",
    "\n",
    "\n",
    "print(venceu)"
   ]
  },
  {
   "cell_type": "code",
   "execution_count": 40,
   "id": "ea009e41-0084-40b5-bc2f-813c4fd5437d",
   "metadata": {},
   "outputs": [
    {
     "name": "stdout",
     "output_type": "stream",
     "text": [
      "arthur amanda ana\n",
      "Pedro Paulo Pietro\n",
      "renan roberta ricardo\n"
     ]
    }
   ],
   "source": [
    "lista_nomes = [\n",
    "    ['arthur', 'amanda', 'ana'],\n",
    "    ['Pedro', 'Paulo', 'Pietro',], \n",
    "    ['renan', 'roberta', 'ricardo']\n",
    "\n",
    "]\n",
    "\n",
    "# print(lista_numerica[1][2])\n",
    "for nome1,nome2, nome3 in lista_nomes: \n",
    "    print(nome1,nome2, nome3)\n"
   ]
  },
  {
   "cell_type": "code",
   "execution_count": 42,
   "id": "650c5ecd-3389-4a56-aa95-c3308532999d",
   "metadata": {},
   "outputs": [
    {
     "name": "stdout",
     "output_type": "stream",
     "text": [
      "False\n"
     ]
    }
   ],
   "source": [
    "lista = [False, False, False]\n",
    "\n",
    "resposta= all(lista)\n",
    "\n",
    "print(resposta)\n"
   ]
  },
  {
   "cell_type": "code",
   "execution_count": 48,
   "id": "363e3692-0375-4940-95ac-06e634db16f3",
   "metadata": {},
   "outputs": [
    {
     "name": "stdout",
     "output_type": "stream",
     "text": [
      "['Laranja', 'morango', 'uva']\n",
      "['Laranja', 'morango', 'uva']\n",
      "['Laranja', 'Kiwi', 'uva']\n",
      "['Laranja', 'morango', 'uva']\n"
     ]
    }
   ],
   "source": [
    "lista_frutas = ['Laranja', 'morango', 'uva']\n",
    "\n",
    "copia_lista = lista_frutas[:] #faz uma copia dos valores de inicio ao fim. Vai printar somente uma lista a outra vai contiunar igual\n",
    "\n",
    "print(lista_frutas)\n",
    "print(copia_lista)\n",
    "\n",
    "lista_frutas[1] = 'Kiwi'\n",
    "\n",
    "print(lista_frutas)\n",
    "print(copia_lista)"
   ]
  },
  {
   "cell_type": "code",
   "execution_count": 63,
   "id": "df7eeaf3-96fe-44e4-accf-774161ec8b0a",
   "metadata": {},
   "outputs": [
    {
     "name": "stdin",
     "output_type": "stream",
     "text": [
      "Digite um número:  120\n",
      "Digite um número:  0\n"
     ]
    },
    {
     "name": "stdout",
     "output_type": "stream",
     "text": [
      "<class 'ZeroDivisionError'>\n",
      "Estou depois do try\n"
     ]
    }
   ],
   "source": [
    "try: \n",
    "    numero1 = int(input('Digite um número: '))\n",
    "    numero2 = int(input('Digite um número: '))\n",
    "    \n",
    "    print('O resultado é:', numero1 / numero2)\n",
    "\n",
    "except ValueError:\n",
    "    print(ValueError)\n",
    "\n",
    "except ZeroDivisionError: \n",
    "    print(ZeroDivisionError)\n",
    "\n",
    "print('Estou depois do try')"
   ]
  },
  {
   "cell_type": "code",
   "execution_count": null,
   "id": "067c4b57-dd13-4894-aa21-7669921c8ae2",
   "metadata": {},
   "outputs": [],
   "source": []
  },
  {
   "cell_type": "code",
   "execution_count": null,
   "id": "2733ba07-458e-4992-a803-e16fe8c24645",
   "metadata": {},
   "outputs": [],
   "source": []
  }
 ],
 "metadata": {
  "kernelspec": {
   "display_name": "Python 3 (ipykernel)",
   "language": "python",
   "name": "python3"
  },
  "language_info": {
   "codemirror_mode": {
    "name": "ipython",
    "version": 3
   },
   "file_extension": ".py",
   "mimetype": "text/x-python",
   "name": "python",
   "nbconvert_exporter": "python",
   "pygments_lexer": "ipython3",
   "version": "3.12.5"
  }
 },
 "nbformat": 4,
 "nbformat_minor": 5
}
